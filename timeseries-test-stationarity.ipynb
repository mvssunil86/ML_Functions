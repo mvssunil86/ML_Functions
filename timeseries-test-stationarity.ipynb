{
 "cells": [
  {
   "cell_type": "code",
   "execution_count": 1,
   "id": "38a98bc7",
   "metadata": {
    "_cell_guid": "b1076dfc-b9ad-4769-8c92-a6c4dae69d19",
    "_uuid": "8f2839f25d086af736a60e9eeb907d3b93b6e0e5",
    "execution": {
     "iopub.execute_input": "2023-01-11T07:57:24.296260Z",
     "iopub.status.busy": "2023-01-11T07:57:24.295741Z",
     "iopub.status.idle": "2023-01-11T07:57:24.308408Z",
     "shell.execute_reply": "2023-01-11T07:57:24.307269Z"
    },
    "papermill": {
     "duration": 0.019948,
     "end_time": "2023-01-11T07:57:24.310909",
     "exception": false,
     "start_time": "2023-01-11T07:57:24.290961",
     "status": "completed"
    },
    "tags": []
   },
   "outputs": [],
   "source": [
    "# This Python 3 environment comes with many helpful analytics libraries installed\n",
    "# It is defined by the kaggle/python Docker image: https://github.com/kaggle/docker-python\n",
    "# For example, here's several helpful packages to load\n",
    "\n",
    "import numpy as np # linear algebra\n",
    "import pandas as pd # data processing, CSV file I/O (e.g. pd.read_csv)\n",
    "\n",
    "# Input data files are available in the read-only \"../input/\" directory\n",
    "# For example, running this (by clicking run or pressing Shift+Enter) will list all files under the input directory\n",
    "\n",
    "import os\n",
    "for dirname, _, filenames in os.walk('/kaggle/input'):\n",
    "    for filename in filenames:\n",
    "        print(os.path.join(dirname, filename))\n",
    "\n",
    "# You can write up to 20GB to the current directory (/kaggle/working/) that gets preserved as output when you create a version using \"Save & Run All\" \n",
    "# You can also write temporary files to /kaggle/temp/, but they won't be saved outside of the current session"
   ]
  },
  {
   "cell_type": "code",
   "execution_count": 2,
   "id": "97f27864",
   "metadata": {
    "execution": {
     "iopub.execute_input": "2023-01-11T07:57:24.317000Z",
     "iopub.status.busy": "2023-01-11T07:57:24.316374Z",
     "iopub.status.idle": "2023-01-11T07:57:25.974865Z",
     "shell.execute_reply": "2023-01-11T07:57:25.973779Z"
    },
    "papermill": {
     "duration": 1.66446,
     "end_time": "2023-01-11T07:57:25.977697",
     "exception": false,
     "start_time": "2023-01-11T07:57:24.313237",
     "status": "completed"
    },
    "tags": []
   },
   "outputs": [],
   "source": [
    "import pandas as pd\n",
    "import numpy as np\n",
    "import matplotlib.pyplot as plt\n",
    "%matplotlib inline\n",
    "import seaborn as sns\n",
    "from datetime import datetime\n",
    "pd.options.display.float_format = '{:.2f}'.format\n",
    "from tqdm import tqdm\n",
    "import warnings\n",
    "warnings.filterwarnings('ignore')\n",
    "\n",
    "from itertools import combinations\n",
    "from statsmodels.tsa.stattools import adfuller\n",
    "from statsmodels.tsa.stattools import acf, pacf\n",
    "from statsmodels.tsa.arima.model import ARIMA as ARIMA\n",
    "import statsmodels.api as sm\n",
    "import statsmodels.tsa.api as smt"
   ]
  },
  {
   "cell_type": "code",
   "execution_count": 3,
   "id": "28f47a9b",
   "metadata": {
    "execution": {
     "iopub.execute_input": "2023-01-11T07:57:25.983643Z",
     "iopub.status.busy": "2023-01-11T07:57:25.982934Z",
     "iopub.status.idle": "2023-01-11T07:57:25.991745Z",
     "shell.execute_reply": "2023-01-11T07:57:25.990561Z"
    },
    "papermill": {
     "duration": 0.014216,
     "end_time": "2023-01-11T07:57:25.994112",
     "exception": false,
     "start_time": "2023-01-11T07:57:25.979896",
     "status": "completed"
    },
    "tags": []
   },
   "outputs": [],
   "source": [
    "def test_stationarity(timeseries):\n",
    "    #Determing rolling statistics\n",
    "    MA = timeseries.rolling(window=12).mean()\n",
    "    MSTD = timeseries.rolling(window=12).std()\n",
    "\n",
    "    #Plot rolling statistics:\n",
    "    plt.figure(figsize=(15,5))\n",
    "    orig = plt.plot(timeseries, color='blue',label='Original')\n",
    "    mean = plt.plot(MA, color='red', label='Rolling Mean')\n",
    "    std = plt.plot(MSTD, color='black', label = 'Rolling Std')\n",
    "    plt.legend(loc='best')\n",
    "    plt.title('Rolling Mean & Standard Deviation')\n",
    "    plt.show(block=False)\n",
    "\n",
    "    #Perform Dickey-Fuller test:\n",
    "    print('Results of Dickey-Fuller Test:')\n",
    "    dftest = adfuller(timeseries, autolag='AIC')\n",
    "    dfoutput = pd.Series(dftest[0:4], index=['Test Statistic','p-value','#Lags Used','Number of Observations Used'])\n",
    "    for key,value in dftest[4].items():\n",
    "        dfoutput['Critical Value (%s)'%key] = value\n",
    "    print(dfoutput)"
   ]
  },
  {
   "cell_type": "code",
   "execution_count": 4,
   "id": "0e9d1776",
   "metadata": {
    "execution": {
     "iopub.execute_input": "2023-01-11T07:57:26.000411Z",
     "iopub.status.busy": "2023-01-11T07:57:25.999495Z",
     "iopub.status.idle": "2023-01-11T07:57:26.009222Z",
     "shell.execute_reply": "2023-01-11T07:57:26.008125Z"
    },
    "papermill": {
     "duration": 0.015108,
     "end_time": "2023-01-11T07:57:26.011434",
     "exception": false,
     "start_time": "2023-01-11T07:57:25.996326",
     "status": "completed"
    },
    "tags": []
   },
   "outputs": [],
   "source": [
    "def tsplot(y, lags=None, figsize=(12, 7), style='bmh'):\n",
    "    if not isinstance(y, pd.Series):\n",
    "        y = pd.Series(y)\n",
    "        \n",
    "    with plt.style.context(style):    \n",
    "        fig = plt.figure(figsize=figsize)\n",
    "        layout = (2, 2)\n",
    "        ts_ax = plt.subplot2grid(layout, (0, 0), colspan=2)\n",
    "        acf_ax = plt.subplot2grid(layout, (1, 0))\n",
    "        pacf_ax = plt.subplot2grid(layout, (1, 1))\n",
    "        \n",
    "        y.plot(ax=ts_ax)\n",
    "        p_value = sm.tsa.stattools.adfuller(y)[1]\n",
    "        ts_ax.set_title('Time Series Analysis Plots\\n Dickey-Fuller: p={0:.5f}'.format(p_value))\n",
    "        smt.graphics.plot_acf(y, lags=lags, ax=acf_ax)\n",
    "        smt.graphics.plot_pacf(y, lags=lags, ax=pacf_ax)\n",
    "        plt.tight_layout()"
   ]
  }
 ],
 "metadata": {
  "kernelspec": {
   "display_name": "Python 3",
   "language": "python",
   "name": "python3"
  },
  "language_info": {
   "codemirror_mode": {
    "name": "ipython",
    "version": 3
   },
   "file_extension": ".py",
   "mimetype": "text/x-python",
   "name": "python",
   "nbconvert_exporter": "python",
   "pygments_lexer": "ipython3",
   "version": "3.7.12"
  },
  "papermill": {
   "default_parameters": {},
   "duration": 11.027412,
   "end_time": "2023-01-11T07:57:26.835586",
   "environment_variables": {},
   "exception": null,
   "input_path": "__notebook__.ipynb",
   "output_path": "__notebook__.ipynb",
   "parameters": {},
   "start_time": "2023-01-11T07:57:15.808174",
   "version": "2.3.4"
  }
 },
 "nbformat": 4,
 "nbformat_minor": 5
}
